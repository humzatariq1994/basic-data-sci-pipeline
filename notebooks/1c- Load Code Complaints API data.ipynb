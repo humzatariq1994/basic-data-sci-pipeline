{
 "cells": [
  {
   "cell_type": "code",
   "execution_count": 1,
   "metadata": {},
   "outputs": [],
   "source": [
    "# importing packages \n",
    "\n",
    "import os # use to load file\n",
    "import pandas as pd # use to create dataframes for data processing"
   ]
  },
  {
   "cell_type": "code",
   "execution_count": 2,
   "metadata": {},
   "outputs": [],
   "source": [
    "# setting base and data directories\n",
    "\n",
    "cwd = os.getcwd()\n",
    "\n",
    "## setting base directory as current directory\n",
    "BASE_DIR = os.path.dirname(cwd)\n",
    "\n",
    "## setting BASE_DIR/data as data directory\n",
    "DATA_DIR = os.path.join(BASE_DIR, 'data') \n",
    "\n",
    "## creating BASE_DIR/cache as a directory to store combined batch file\n",
    "\n",
    "## cache directory path \n",
    "CACHE_DIR = os.path.join(BASE_DIR, 'cache')\n",
    "\n",
    "\n",
    "## output file path\n",
    "code_complaints_file = os.path.join(CACHE_DIR, 'code_complaints_dataset.csv')"
   ]
  },
  {
   "cell_type": "code",
   "execution_count": 3,
   "metadata": {},
   "outputs": [],
   "source": [
    "# Creating function to create api url and convert it to pandas\n",
    "# Public datasets doesn't need my app token\n",
    "\n",
    "def SODA_API_to_DF(database_api,select_column,grouping_column):\n",
    "    url = database_api + '?$query=SELECT%20' + select_column + '%20group%20by%20' + grouping_column\n",
    "    return pd.read_csv(url)\n"
   ]
  },
  {
   "cell_type": "code",
   "execution_count": 4,
   "metadata": {},
   "outputs": [
    {
     "data": {
      "text/html": [
       "<div>\n",
       "<style scoped>\n",
       "    .dataframe tbody tr th:only-of-type {\n",
       "        vertical-align: middle;\n",
       "    }\n",
       "\n",
       "    .dataframe tbody tr th {\n",
       "        vertical-align: top;\n",
       "    }\n",
       "\n",
       "    .dataframe thead th {\n",
       "        text-align: right;\n",
       "    }\n",
       "</style>\n",
       "<table border=\"1\" class=\"dataframe\">\n",
       "  <thead>\n",
       "    <tr style=\"text-align: right;\">\n",
       "      <th></th>\n",
       "      <th>originalzip</th>\n",
       "      <th>count_recordnum</th>\n",
       "    </tr>\n",
       "  </thead>\n",
       "  <tbody>\n",
       "    <tr>\n",
       "      <th>0</th>\n",
       "      <td>0.0</td>\n",
       "      <td>2</td>\n",
       "    </tr>\n",
       "    <tr>\n",
       "      <th>1</th>\n",
       "      <td>9810.0</td>\n",
       "      <td>1</td>\n",
       "    </tr>\n",
       "    <tr>\n",
       "      <th>2</th>\n",
       "      <td>98101.0</td>\n",
       "      <td>1958</td>\n",
       "    </tr>\n",
       "    <tr>\n",
       "      <th>3</th>\n",
       "      <td>98102.0</td>\n",
       "      <td>4945</td>\n",
       "    </tr>\n",
       "    <tr>\n",
       "      <th>4</th>\n",
       "      <td>98103.0</td>\n",
       "      <td>10635</td>\n",
       "    </tr>\n",
       "  </tbody>\n",
       "</table>\n",
       "</div>"
      ],
      "text/plain": [
       "   originalzip  count_recordnum\n",
       "0          0.0                2\n",
       "1       9810.0                1\n",
       "2      98101.0             1958\n",
       "3      98102.0             4945\n",
       "4      98103.0            10635"
      ]
     },
     "execution_count": 4,
     "metadata": {},
     "output_type": "execute_result"
    }
   ],
   "source": [
    "# API for Code Complaints and Violations  \n",
    "# Link: https://data.seattle.gov/Community/Code-Complaints-and-Violations/ez4a-iug7\n",
    "\n",
    "# Database API can be found on database main page. Please use csv option.\n",
    "database_api = 'https://data.seattle.gov/resource/ez4a-iug7.csv'\n",
    "\n",
    "# Select columns needed for analysis\n",
    "select_column = 'originalzip,count(recordnum)' #create string with columns seperated by comma. Aggregation functions can be used.\n",
    "\n",
    "# Grouping column if aggregation used\n",
    "grouping_column = 'originalzip'  #create string with columns seperated by comma.\n",
    "\n",
    "    \n",
    "code_complaints_df = SODA_API_to_DF(database_api,select_column,grouping_column)\n",
    "code_complaints_df.head()"
   ]
  },
  {
   "cell_type": "code",
   "execution_count": 5,
   "metadata": {},
   "outputs": [],
   "source": [
    "#saving dataset in cache folder\n",
    "\n",
    "code_complaints_df.to_csv(code_complaints_file, index=False)"
   ]
  }
 ],
 "metadata": {
  "kernelspec": {
   "display_name": "Python 3",
   "language": "python",
   "name": "python3"
  },
  "language_info": {
   "codemirror_mode": {
    "name": "ipython",
    "version": 3
   },
   "file_extension": ".py",
   "mimetype": "text/x-python",
   "name": "python",
   "nbconvert_exporter": "python",
   "pygments_lexer": "ipython3",
   "version": "3.8.5"
  }
 },
 "nbformat": 4,
 "nbformat_minor": 4
}
