{
 "cells": [
  {
   "cell_type": "code",
   "execution_count": 5,
   "metadata": {},
   "outputs": [],
   "source": [
    "# importing packages \n",
    "\n",
    "import os # use to load file\n",
    "import pandas as pd # use to create dataframes for data processing"
   ]
  },
  {
   "cell_type": "code",
   "execution_count": 6,
   "metadata": {},
   "outputs": [],
   "source": [
    "# setting base and data directories\n",
    "\n",
    "cwd = os.getcwd()\n",
    "\n",
    "## setting base directory as current directory\n",
    "BASE_DIR = os.path.dirname(cwd)\n",
    "\n",
    "## setting BASE_DIR/data as data directory\n",
    "DATA_DIR = os.path.join(BASE_DIR, 'data') \n",
    "\n",
    "## cache directory path \n",
    "CACHE_DIR = os.path.join(DATA_DIR, 'cache')\n",
    "\n",
    "## external directory path \n",
    "EXT_DIR = os.path.join(DATA_DIR, 'external')\n",
    "\n",
    "## setting working file\n",
    "working_code_complaints_file = os.path.join(EXT_DIR, 'code_complaints_dataset.csv')\n",
    "\n",
    "## setting output file\n",
    "output_code_complaints_file = os.path.join(CACHE_DIR, 'code_complaints_dataset_cleaned.csv')"
   ]
  },
  {
   "cell_type": "code",
   "execution_count": 7,
   "metadata": {
    "scrolled": true
   },
   "outputs": [
    {
     "data": {
      "text/html": [
       "<div>\n",
       "<style scoped>\n",
       "    .dataframe tbody tr th:only-of-type {\n",
       "        vertical-align: middle;\n",
       "    }\n",
       "\n",
       "    .dataframe tbody tr th {\n",
       "        vertical-align: top;\n",
       "    }\n",
       "\n",
       "    .dataframe thead th {\n",
       "        text-align: right;\n",
       "    }\n",
       "</style>\n",
       "<table border=\"1\" class=\"dataframe\">\n",
       "  <thead>\n",
       "    <tr style=\"text-align: right;\">\n",
       "      <th></th>\n",
       "      <th>originalzip</th>\n",
       "      <th>count_recordnum</th>\n",
       "    </tr>\n",
       "  </thead>\n",
       "  <tbody>\n",
       "    <tr>\n",
       "      <th>0</th>\n",
       "      <td>0.0</td>\n",
       "      <td>2</td>\n",
       "    </tr>\n",
       "    <tr>\n",
       "      <th>1</th>\n",
       "      <td>9810.0</td>\n",
       "      <td>1</td>\n",
       "    </tr>\n",
       "    <tr>\n",
       "      <th>2</th>\n",
       "      <td>98101.0</td>\n",
       "      <td>1958</td>\n",
       "    </tr>\n",
       "    <tr>\n",
       "      <th>3</th>\n",
       "      <td>98102.0</td>\n",
       "      <td>4945</td>\n",
       "    </tr>\n",
       "    <tr>\n",
       "      <th>4</th>\n",
       "      <td>98103.0</td>\n",
       "      <td>10635</td>\n",
       "    </tr>\n",
       "  </tbody>\n",
       "</table>\n",
       "</div>"
      ],
      "text/plain": [
       "   originalzip  count_recordnum\n",
       "0          0.0                2\n",
       "1       9810.0                1\n",
       "2      98101.0             1958\n",
       "3      98102.0             4945\n",
       "4      98103.0            10635"
      ]
     },
     "execution_count": 7,
     "metadata": {},
     "output_type": "execute_result"
    }
   ],
   "source": [
    "# creating working code_complaints file dataframe and inspecting it\n",
    "code_complaints_raw_df = pd.read_csv(working_code_complaints_file)\n",
    "\n",
    "## setting options to see all columns\n",
    "pd.set_option('display.max_columns', None)\n",
    "\n",
    "code_complaints_raw_df.head()"
   ]
  },
  {
   "cell_type": "code",
   "execution_count": 8,
   "metadata": {},
   "outputs": [
    {
     "data": {
      "text/plain": [
       "originalzip        float64\n",
       "count_recordnum      int64\n",
       "dtype: object"
      ]
     },
     "execution_count": 8,
     "metadata": {},
     "output_type": "execute_result"
    }
   ],
   "source": [
    "#checking the datatypes\n",
    "\n",
    "code_complaints_raw_df.dtypes"
   ]
  },
  {
   "cell_type": "code",
   "execution_count": 9,
   "metadata": {},
   "outputs": [
    {
     "data": {
      "text/html": [
       "<div>\n",
       "<style scoped>\n",
       "    .dataframe tbody tr th:only-of-type {\n",
       "        vertical-align: middle;\n",
       "    }\n",
       "\n",
       "    .dataframe tbody tr th {\n",
       "        vertical-align: top;\n",
       "    }\n",
       "\n",
       "    .dataframe thead th {\n",
       "        text-align: right;\n",
       "    }\n",
       "</style>\n",
       "<table border=\"1\" class=\"dataframe\">\n",
       "  <thead>\n",
       "    <tr style=\"text-align: right;\">\n",
       "      <th></th>\n",
       "      <th>zipcode</th>\n",
       "      <th>number_of_code_complaints</th>\n",
       "    </tr>\n",
       "  </thead>\n",
       "  <tbody>\n",
       "    <tr>\n",
       "      <th>2</th>\n",
       "      <td>98101</td>\n",
       "      <td>1958</td>\n",
       "    </tr>\n",
       "    <tr>\n",
       "      <th>3</th>\n",
       "      <td>98102</td>\n",
       "      <td>4945</td>\n",
       "    </tr>\n",
       "    <tr>\n",
       "      <th>4</th>\n",
       "      <td>98103</td>\n",
       "      <td>10635</td>\n",
       "    </tr>\n",
       "    <tr>\n",
       "      <th>5</th>\n",
       "      <td>98104</td>\n",
       "      <td>2181</td>\n",
       "    </tr>\n",
       "    <tr>\n",
       "      <th>6</th>\n",
       "      <td>98105</td>\n",
       "      <td>8135</td>\n",
       "    </tr>\n",
       "  </tbody>\n",
       "</table>\n",
       "</div>"
      ],
      "text/plain": [
       "   zipcode  number_of_code_complaints\n",
       "2    98101                       1958\n",
       "3    98102                       4945\n",
       "4    98103                      10635\n",
       "5    98104                       2181\n",
       "6    98105                       8135"
      ]
     },
     "execution_count": 9,
     "metadata": {},
     "output_type": "execute_result"
    }
   ],
   "source": [
    "'''\n",
    "Cleaning and Transforming Parks data:\n",
    "1) Changing originalzip to zipcode so it can join with house_pricing_dataset.\n",
    "2) Renaming count_recordnum to number_of_code_complaints for clarity\n",
    "3) Removing zipcode=0 and zipcode=\"\" rows\n",
    "4) Changing zipcode data type to int64\n",
    "\n",
    "'''\n",
    "##intializing cleaned_df for transformations\n",
    "code_complaints_cleaned_df = pd.DataFrame()\n",
    "\n",
    "##renaming originalzip column to zipcode\n",
    "code_complaints_cleaned_df['zipcode'] = code_complaints_raw_df['originalzip']\n",
    "\n",
    "##Renaming count_recordnum to number_of_code_complaints\n",
    "code_complaints_cleaned_df['number_of_code_complaints'] = code_complaints_raw_df['count_recordnum']\n",
    "\n",
    "##Removing zipcode=0, zipcode=\"NaN\" and len(zipcode) > 6 rows [zipcode with 0 as decimal should have atleast a lenght of 7]\n",
    "code_complaints_cleaned_df = code_complaints_cleaned_df.dropna()\n",
    "code_complaints_cleaned_df = code_complaints_cleaned_df.loc[(code_complaints_cleaned_df!=0.0).all(axis=1)]\n",
    "code_complaints_cleaned_df = code_complaints_cleaned_df[code_complaints_cleaned_df['zipcode'].map(str).map(len) > 6]\n",
    "\n",
    "##Changing zipcode data type to int64\n",
    "code_complaints_cleaned_df['zipcode'] = code_complaints_cleaned_df['zipcode'].astype('int64')\n",
    "\n",
    "\n",
    "code_complaints_cleaned_df.head()"
   ]
  },
  {
   "cell_type": "code",
   "execution_count": 10,
   "metadata": {},
   "outputs": [
    {
     "data": {
      "text/plain": [
       "zipcode                      int64\n",
       "number_of_code_complaints    int64\n",
       "dtype: object"
      ]
     },
     "execution_count": 10,
     "metadata": {},
     "output_type": "execute_result"
    }
   ],
   "source": [
    "#checking the datatypes\n",
    "\n",
    "code_complaints_cleaned_df.dtypes"
   ]
  },
  {
   "cell_type": "code",
   "execution_count": 11,
   "metadata": {},
   "outputs": [],
   "source": [
    "#storing code_complaints_cleaned_df as a output file\n",
    "\n",
    "code_complaints_cleaned_df.to_csv(output_code_complaints_file, index=False)"
   ]
  }
 ],
 "metadata": {
  "kernelspec": {
   "display_name": "Python 3",
   "language": "python",
   "name": "python3"
  },
  "language_info": {
   "codemirror_mode": {
    "name": "ipython",
    "version": 3
   },
   "file_extension": ".py",
   "mimetype": "text/x-python",
   "name": "python",
   "nbconvert_exporter": "python",
   "pygments_lexer": "ipython3",
   "version": "3.8.5"
  }
 },
 "nbformat": 4,
 "nbformat_minor": 4
}
